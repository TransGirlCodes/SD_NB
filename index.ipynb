{
 "cells": [
  {
   "cell_type": "markdown",
   "metadata": {},
   "source": [
    "# Coalescence time estimates between sequences with SpeedDate and BioJulia"
   ]
  },
  {
   "cell_type": "markdown",
   "metadata": {},
   "source": [
    "## Introduction\n",
    "\n",
    "SpeedDate is the name given to a method of estimating a coalescence time between two DNA sequence regions that was first implemented in the R package [HybridCheck](https://github.com/Ward9250/HybridCheck) in order to date regions of introgression in large sequence contigs. The current SpeedDate is implemented in the [SpeedDate.jl](https://github.com/Ward9250/SpeedDate.jl) package, which depends on [Bio.jl](https://github.com/BioJulia/Bio.jl) for core functionality like the input and output of DNA sequences and data, and computation of mutation counts and genetic distances.\n",
    "\n",
    "## The dating estimation method\n",
    "\n",
    "The coalescence time is estimated using the number of mutations that have occurred between two aligned sequences.\n",
    "The calculation uses a strict molecular clock which assumes a constant substitution rate, both through time and across taxa.\n",
    "\n",
    "Modelling the mutation accumulation process as a Bernoulli trial, the probability of observing $k$ or fewer mutations between two sequences of length $n$ can be given as:\n",
    "\n",
    "\\begin{equation}\n",
    "Pr(X \\le k) = \\sum_{i=0}^{\\lfloor k \\rfloor} \\binom{n}{i} p^i (1 - p)^{n-i}\n",
    "\\end{equation}\n",
    "\n",
    "Where $p$ is the probability of observing a single mutation between the two aligned sequences.\n",
    "The value of $p$ depends on two key factors: the substitution rate and the coalescence time.\n",
    "If you assume a molecular clock, whereby two DNA sequences are both accumulating mutations at a rate $\\mu$ for $t$ generations, then you may define $p = 2\\mu t$.\n",
    "\n",
    "Using these assumptions, the SpeedDate method finds the root of the following formula for $Pr(X \\le k) = 0.05$, $0.5$, and $0.95$, and then divides the three answers by twice the assumed substitution rate.\n",
    "\n",
    "\\begin{equation}\n",
    "f(n, k, 2\\mu t, Pr(X \\le k) = \\left( \\sum_{i=0}^{\\lfloor k \\rfloor} \\binom{n}{i} {2\\mu t}^i (1 - 2\\mu t)^{n-i}   \\right) - Pr(X \\le k)\n",
    "\\end{equation}\n",
    "\n",
    "This results in an upper, middle, and lower estimate of the coalescence time $t$ of the two sequences (expressed as the number of generations).\n",
    "\n",
    "This method has been written into the Phylo module of the flagship package of the BioJulia project, Bio.jl as a function called `coaltime`, and SpeedDate simply bundles the steps of loading data, conting mutations in sequences, and passing that information to `coaltime` easier.\n",
    "\n",
    "SpeedDate can be used in three forms: If you are comfortable downloading your own julia packages, there is a command line interface and a GTK based GUI bundled in [SpeedDate.jl](https://github.com/Ward9250/SpeedDate.jl), but actually since this notebook is hosted using the [Binder](http://mybinder.org/) system, you can use this notebook to use the SpeedDate method right away, no need to install anything new on your computer. \n",
    "\n",
    "## Let's use SpeedDate!\n",
    "\n",
    "**NOTE!** If you modify this notebook and use it with your own data, and want store it for reference or future use, please remember to download it on your own computer, as the online session that you're using is not permanent.\n",
    "\n",
    "With that out of the way, these packages are required to get you going:"
   ]
  },
  {
   "cell_type": "code",
   "execution_count": 3,
   "metadata": {
    "collapsed": false
   },
   "outputs": [],
   "source": [
    "using Reactive, Interact, SpeedDate\n"
   ]
  },
  {
   "cell_type": "code",
   "execution_count": 4,
   "metadata": {
    "collapsed": false
   },
   "outputs": [
    {
     "data": {
      "text/html": [],
      "text/plain": [
       "Interact.Slider{Float64}(Signal{Float64}(0.5, nactions=0),\"Hi!\",0.5,0.0:0.1:1.0,\".3f\",true)"
      ]
     },
     "execution_count": 4,
     "metadata": {},
     "output_type": "execute_result"
    }
   ],
   "source": [
    "s = slider(0:.1:1, label=\"Hi!\")"
   ]
  }
 ],
 "metadata": {
  "kernelspec": {
   "display_name": "Julia 0.5.1-pre",
   "language": "julia",
   "name": "julia-0.5"
  },
  "language_info": {
   "file_extension": ".jl",
   "mimetype": "application/julia",
   "name": "julia",
   "version": "0.5.1"
  }
 },
 "nbformat": 4,
 "nbformat_minor": 0
}
